{
 "cells": [
  {
   "cell_type": "code",
   "execution_count": 31,
   "metadata": {},
   "outputs": [
    {
     "data": {
      "text/plain": [
       "Opera                      -0.071819\n",
       "Slow songs or fast songs   -0.052613\n",
       "Folk                       -0.049612\n",
       "Punk                       -0.029189\n",
       "Metal or Hardrock          -0.026769\n",
       "Country                    -0.025315\n",
       "Latino                     -0.015060\n",
       "Reggae, Ska                -0.008434\n",
       "Musical                     0.011869\n",
       "Classical music             0.014285\n",
       "Swing, Jazz                 0.019556\n",
       "Techno, Trance              0.019863\n",
       "Dance                       0.027249\n",
       "Alternative                 0.027540\n",
       "Rock n roll                 0.028889\n",
       "Hiphop, Rap                 0.038980\n",
       "Pop                         0.079101\n",
       "Rock                        0.105245\n",
       "Name: Getting up, dtype: float64"
      ]
     },
     "execution_count": 31,
     "metadata": {},
     "output_type": "execute_result"
    }
   ],
   "source": [
    "#일찍 일어나는 사람들이 좋아할 만한 음악이 무엇인지 분석해 보려고 합니다.\n",
    "import pandas as pd\n",
    "df= pd.read_csv('young_survey.csv')\n",
    "df.corr()['Getting up'][1:19].sort_values(ascending=True)"
   ]
  },
  {
   "cell_type": "code",
   "execution_count": 26,
   "metadata": {},
   "outputs": [
    {
     "data": {
      "text/plain": [
       "'\\n경영학과 3학년이 된 영준이는 스타트업을 준비하고 있습니다.\\n사업 아이템을 고민하면서, 나름대로 가설을 몇 개 세워봤습니다.\\n\\n\\n악기를 다루는 사람들은 시 쓰기를 좋아하는 경향이 있을 것이다.\\n외모에 돈을 많이 투자하는 사람들은 브랜드 의류를 선호할 것이다.\\n메모를 자주 하는 사람들은 새로운 환경에 쉽게 적응할 것이다.\\n워커홀릭들은 건강한 음식을 먹으려는 경향이 있을 것이다.\\n\\n이 내용을 사업 아이템으로 확장하기 전에, 데이터를 통해 가설을 검증해보려고 하는데요.  \\n설문조사 데이터(다운로드)를 바탕으로, 가장 가능성이 낮은 가설을 골라보세요.\\n\\n\\n이 가설과 관련이 있는 column은 다음과 같습니다.\\n\\n\\nBranded clothing: 나는 브랜드가 없는 옷보다 브랜드가 있는 옷을 선호한다.\\nHealthy eating: 나는 건강하거나 품질이 좋은 음식에는 기쁘게 돈을 더 낼 수 있다.\\nMusical instruments: 나는 악기 연주에 관심이 많다.\\nNew environment: 나는 새 환경에 잘 적응하는 편이다.\\nPrioritising workload: 나는 일을 미루지 않고 즉시 해결해버리려고 한다.\\nSpending on looks: 나는 내 외모에 돈을 많이 쓴다.\\nWorkaholism: 나는 여가 시간에 공부나 일을 자주 한다.\\nWriting: 나는 시 쓰기에 관심이 많다.\\nWriting notes: 나는 항상 메모를 한다.\\n'"
      ]
     },
     "execution_count": 26,
     "metadata": {},
     "output_type": "execute_result"
    }
   ],
   "source": [
    "'''\n",
    "경영학과 3학년이 된 영준이는 스타트업을 준비하고 있습니다.\n",
    "사업 아이템을 고민하면서, 나름대로 가설을 몇 개 세워봤습니다.\n",
    "\n",
    "\n",
    "악기를 다루는 사람들은 시 쓰기를 좋아하는 경향이 있을 것이다.\n",
    "외모에 돈을 많이 투자하는 사람들은 브랜드 의류를 선호할 것이다.\n",
    "메모를 자주 하는 사람들은 새로운 환경에 쉽게 적응할 것이다.\n",
    "워커홀릭들은 건강한 음식을 먹으려는 경향이 있을 것이다.\n",
    "\n",
    "이 내용을 사업 아이템으로 확장하기 전에, 데이터를 통해 가설을 검증해보려고 하는데요.  \n",
    "설문조사 데이터(다운로드)를 바탕으로, 가장 가능성이 낮은 가설을 골라보세요.\n",
    "\n",
    "\n",
    "이 가설과 관련이 있는 column은 다음과 같습니다.\n",
    "\n",
    "\n",
    "Branded clothing: 나는 브랜드가 없는 옷보다 브랜드가 있는 옷을 선호한다.\n",
    "Healthy eating: 나는 건강하거나 품질이 좋은 음식에는 기쁘게 돈을 더 낼 수 있다.\n",
    "Musical instruments: 나는 악기 연주에 관심이 많다.\n",
    "New environment: 나는 새 환경에 잘 적응하는 편이다.\n",
    "Prioritising workload: 나는 일을 미루지 않고 즉시 해결해버리려고 한다.\n",
    "Spending on looks: 나는 내 외모에 돈을 많이 쓴다.\n",
    "Workaholism: 나는 여가 시간에 공부나 일을 자주 한다.\n",
    "Writing: 나는 시 쓰기에 관심이 많다.\n",
    "Writing notes: 나는 항상 메모를 한다.\n",
    "'''"
   ]
  },
  {
   "cell_type": "code",
   "execution_count": 38,
   "metadata": {},
   "outputs": [
    {
     "name": "stdout",
     "output_type": "stream",
     "text": [
      "0.34381621439042986\n",
      "0.4183989446458914\n",
      "-0.07939652994810564\n",
      "0.23864443283866651\n"
     ]
    }
   ],
   "source": [
    "print(df.corr()['Writing']['Musical instruments'])\n",
    "print(df.corr()['Spending on looks']['Branded clothing'])\n",
    "print(df.corr()['Writing notes']['New environment'])\n",
    "print(df.corr()['Workaholism']['Healthy eating'])"
   ]
  }
 ],
 "metadata": {
  "kernelspec": {
   "display_name": "Python 3",
   "language": "python",
   "name": "python3"
  },
  "language_info": {
   "codemirror_mode": {
    "name": "ipython",
    "version": 3
   },
   "file_extension": ".py",
   "mimetype": "text/x-python",
   "name": "python",
   "nbconvert_exporter": "python",
   "pygments_lexer": "ipython3",
   "version": "3.7.3"
  }
 },
 "nbformat": 4,
 "nbformat_minor": 2
}
