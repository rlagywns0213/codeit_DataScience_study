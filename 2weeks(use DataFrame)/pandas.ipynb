{
 "cells": [
  {
   "cell_type": "code",
   "execution_count": 2,
   "metadata": {},
   "outputs": [],
   "source": [
    "import pandas as pd"
   ]
  },
  {
   "cell_type": "code",
   "execution_count": 3,
   "metadata": {},
   "outputs": [
    {
     "data": {
      "text/html": [
       "<div>\n",
       "<style scoped>\n",
       "    .dataframe tbody tr th:only-of-type {\n",
       "        vertical-align: middle;\n",
       "    }\n",
       "\n",
       "    .dataframe tbody tr th {\n",
       "        vertical-align: top;\n",
       "    }\n",
       "\n",
       "    .dataframe thead th {\n",
       "        text-align: right;\n",
       "    }\n",
       "</style>\n",
       "<table border=\"1\" class=\"dataframe\">\n",
       "  <thead>\n",
       "    <tr style=\"text-align: right;\">\n",
       "      <th></th>\n",
       "      <th>출시일</th>\n",
       "      <th>디스플레이</th>\n",
       "      <th>메모리</th>\n",
       "      <th>출시 버전</th>\n",
       "      <th>Face ID</th>\n",
       "    </tr>\n",
       "  </thead>\n",
       "  <tbody>\n",
       "    <tr>\n",
       "      <td>iPhone 7</td>\n",
       "      <td>2016-09-16</td>\n",
       "      <td>4.7</td>\n",
       "      <td>2GB</td>\n",
       "      <td>iOS 10.0</td>\n",
       "      <td>No</td>\n",
       "    </tr>\n",
       "    <tr>\n",
       "      <td>iPhone 7 Plus</td>\n",
       "      <td>2016-09-16</td>\n",
       "      <td>5.5</td>\n",
       "      <td>3GB</td>\n",
       "      <td>iOS 10.0</td>\n",
       "      <td>No</td>\n",
       "    </tr>\n",
       "    <tr>\n",
       "      <td>iPhone 8</td>\n",
       "      <td>2017-09-22</td>\n",
       "      <td>4.7</td>\n",
       "      <td>2GB</td>\n",
       "      <td>iOS 11.0</td>\n",
       "      <td>No</td>\n",
       "    </tr>\n",
       "    <tr>\n",
       "      <td>iPhone 8 Plus</td>\n",
       "      <td>2017-09-22</td>\n",
       "      <td>5.5</td>\n",
       "      <td>3GB</td>\n",
       "      <td>iOS 11.0</td>\n",
       "      <td>No</td>\n",
       "    </tr>\n",
       "    <tr>\n",
       "      <td>iPhone X</td>\n",
       "      <td>2017-11-03</td>\n",
       "      <td>5.8</td>\n",
       "      <td>3GB</td>\n",
       "      <td>iOS 11.1</td>\n",
       "      <td>Yes</td>\n",
       "    </tr>\n",
       "    <tr>\n",
       "      <td>iPhone XS</td>\n",
       "      <td>2018-09-21</td>\n",
       "      <td>5.8</td>\n",
       "      <td>4GB</td>\n",
       "      <td>iOS 12.0</td>\n",
       "      <td>Yes</td>\n",
       "    </tr>\n",
       "    <tr>\n",
       "      <td>iPhone XS Max</td>\n",
       "      <td>2018-09-21</td>\n",
       "      <td>6.5</td>\n",
       "      <td>4GB</td>\n",
       "      <td>iOS 12.0</td>\n",
       "      <td>Yes</td>\n",
       "    </tr>\n",
       "  </tbody>\n",
       "</table>\n",
       "</div>"
      ],
      "text/plain": [
       "                      출시일  디스플레이  메모리     출시 버전 Face ID\n",
       "iPhone 7       2016-09-16    4.7  2GB  iOS 10.0      No\n",
       "iPhone 7 Plus  2016-09-16    5.5  3GB  iOS 10.0      No\n",
       "iPhone 8       2017-09-22    4.7  2GB  iOS 11.0      No\n",
       "iPhone 8 Plus  2017-09-22    5.5  3GB  iOS 11.0      No\n",
       "iPhone X       2017-11-03    5.8  3GB  iOS 11.1     Yes\n",
       "iPhone XS      2018-09-21    5.8  4GB  iOS 12.0     Yes\n",
       "iPhone XS Max  2018-09-21    6.5  4GB  iOS 12.0     Yes"
      ]
     },
     "execution_count": 3,
     "metadata": {},
     "output_type": "execute_result"
    }
   ],
   "source": [
    "iphone_df = pd.read_csv('iphone.csv', index_col=0)\n",
    "iphone_df"
   ]
  },
  {
   "cell_type": "code",
   "execution_count": 4,
   "metadata": {},
   "outputs": [
    {
     "data": {
      "text/plain": [
       "'2GB'"
      ]
     },
     "execution_count": 4,
     "metadata": {},
     "output_type": "execute_result"
    }
   ],
   "source": [
    "iphone_df.loc['iPhone 8', '메모리']"
   ]
  },
  {
   "cell_type": "code",
   "execution_count": 5,
   "metadata": {},
   "outputs": [
    {
     "data": {
      "text/plain": [
       "출시일        2017-11-03\n",
       "디스플레이             5.8\n",
       "메모리               3GB\n",
       "출시 버전        iOS 11.1\n",
       "Face ID           Yes\n",
       "Name: iPhone X, dtype: object"
      ]
     },
     "execution_count": 5,
     "metadata": {},
     "output_type": "execute_result"
    }
   ],
   "source": [
    "iphone_df.loc['iPhone X',:]"
   ]
  },
  {
   "cell_type": "code",
   "execution_count": 6,
   "metadata": {},
   "outputs": [
    {
     "data": {
      "text/plain": [
       "pandas.core.series.Series"
      ]
     },
     "execution_count": 6,
     "metadata": {},
     "output_type": "execute_result"
    }
   ],
   "source": [
    "type(iphone_df.loc['iPhone X',:])"
   ]
  },
  {
   "cell_type": "code",
   "execution_count": 7,
   "metadata": {},
   "outputs": [
    {
     "data": {
      "text/plain": [
       "iPhone 7         2016-09-16\n",
       "iPhone 7 Plus    2016-09-16\n",
       "iPhone 8         2017-09-22\n",
       "iPhone 8 Plus    2017-09-22\n",
       "iPhone X         2017-11-03\n",
       "iPhone XS        2018-09-21\n",
       "iPhone XS Max    2018-09-21\n",
       "Name: 출시일, dtype: object"
      ]
     },
     "execution_count": 7,
     "metadata": {},
     "output_type": "execute_result"
    }
   ],
   "source": [
    "iphone_df.loc[:,'출시일']"
   ]
  },
  {
   "cell_type": "markdown",
   "metadata": {},
   "source": [
    "csv 파일 두개로부터 필요한 데이터만 뽑아 새로운 데이터 프레임 만들기"
   ]
  },
  {
   "cell_type": "code",
   "execution_count": 29,
   "metadata": {},
   "outputs": [],
   "source": [
    "#import pandas as pd\n",
    "\n",
    "#samsong_df = pd.read_csv('data/samsong.csv')\n",
    "#hyundee_df = pd.read_csv('data/hyundee.csv')\n",
    "\n",
    "# 코드를 작성하세요.\n",
    "#a= {'day' : samsong_df.loc[:,'요일'],\n",
    " #'samsong' : samsong_df.loc[:,'문화생활비'],\n",
    " #'hyundee' : hyundee_df.loc[:,'문화생활비']}\n",
    "\n",
    "#df = pd.DataFrame(a)\n",
    "#df\n"
   ]
  },
  {
   "cell_type": "code",
   "execution_count": 10,
   "metadata": {},
   "outputs": [
    {
     "data": {
      "text/html": [
       "<div>\n",
       "<style scoped>\n",
       "    .dataframe tbody tr th:only-of-type {\n",
       "        vertical-align: middle;\n",
       "    }\n",
       "\n",
       "    .dataframe tbody tr th {\n",
       "        vertical-align: top;\n",
       "    }\n",
       "\n",
       "    .dataframe thead th {\n",
       "        text-align: right;\n",
       "    }\n",
       "</style>\n",
       "<table border=\"1\" class=\"dataframe\">\n",
       "  <thead>\n",
       "    <tr style=\"text-align: right;\">\n",
       "      <th></th>\n",
       "      <th>출시일</th>\n",
       "      <th>디스플레이</th>\n",
       "      <th>메모리</th>\n",
       "      <th>출시 버전</th>\n",
       "      <th>Face ID</th>\n",
       "    </tr>\n",
       "  </thead>\n",
       "  <tbody>\n",
       "    <tr>\n",
       "      <td>iPhone X</td>\n",
       "      <td>2017-11-03</td>\n",
       "      <td>5.8</td>\n",
       "      <td>3GB</td>\n",
       "      <td>iOS 11.1</td>\n",
       "      <td>Yes</td>\n",
       "    </tr>\n",
       "    <tr>\n",
       "      <td>iPhone 8</td>\n",
       "      <td>2017-09-22</td>\n",
       "      <td>4.7</td>\n",
       "      <td>2GB</td>\n",
       "      <td>iOS 11.0</td>\n",
       "      <td>No</td>\n",
       "    </tr>\n",
       "  </tbody>\n",
       "</table>\n",
       "</div>"
      ],
      "text/plain": [
       "                 출시일  디스플레이  메모리     출시 버전 Face ID\n",
       "iPhone X  2017-11-03    5.8  3GB  iOS 11.1     Yes\n",
       "iPhone 8  2017-09-22    4.7  2GB  iOS 11.0      No"
      ]
     },
     "execution_count": 10,
     "metadata": {},
     "output_type": "execute_result"
    }
   ],
   "source": [
    "iphone_df.loc[['iPhone X', 'iPhone 8']]"
   ]
  },
  {
   "cell_type": "code",
   "execution_count": 13,
   "metadata": {},
   "outputs": [
    {
     "data": {
      "text/plain": [
       "pandas.core.frame.DataFrame"
      ]
     },
     "execution_count": 13,
     "metadata": {},
     "output_type": "execute_result"
    }
   ],
   "source": [
    "type(iphone_df.loc[['iPhone X', 'iPhone 8']])"
   ]
  },
  {
   "cell_type": "code",
   "execution_count": 19,
   "metadata": {},
   "outputs": [
    {
     "data": {
      "text/html": [
       "<div>\n",
       "<style scoped>\n",
       "    .dataframe tbody tr th:only-of-type {\n",
       "        vertical-align: middle;\n",
       "    }\n",
       "\n",
       "    .dataframe tbody tr th {\n",
       "        vertical-align: top;\n",
       "    }\n",
       "\n",
       "    .dataframe thead th {\n",
       "        text-align: right;\n",
       "    }\n",
       "</style>\n",
       "<table border=\"1\" class=\"dataframe\">\n",
       "  <thead>\n",
       "    <tr style=\"text-align: right;\">\n",
       "      <th></th>\n",
       "      <th>Face ID</th>\n",
       "      <th>출시일</th>\n",
       "      <th>메모리</th>\n",
       "    </tr>\n",
       "  </thead>\n",
       "  <tbody>\n",
       "    <tr>\n",
       "      <td>iPhone 7</td>\n",
       "      <td>No</td>\n",
       "      <td>2016-09-16</td>\n",
       "      <td>2GB</td>\n",
       "    </tr>\n",
       "    <tr>\n",
       "      <td>iPhone 7 Plus</td>\n",
       "      <td>No</td>\n",
       "      <td>2016-09-16</td>\n",
       "      <td>3GB</td>\n",
       "    </tr>\n",
       "    <tr>\n",
       "      <td>iPhone 8</td>\n",
       "      <td>No</td>\n",
       "      <td>2017-09-22</td>\n",
       "      <td>2GB</td>\n",
       "    </tr>\n",
       "    <tr>\n",
       "      <td>iPhone 8 Plus</td>\n",
       "      <td>No</td>\n",
       "      <td>2017-09-22</td>\n",
       "      <td>3GB</td>\n",
       "    </tr>\n",
       "    <tr>\n",
       "      <td>iPhone X</td>\n",
       "      <td>Yes</td>\n",
       "      <td>2017-11-03</td>\n",
       "      <td>3GB</td>\n",
       "    </tr>\n",
       "    <tr>\n",
       "      <td>iPhone XS</td>\n",
       "      <td>Yes</td>\n",
       "      <td>2018-09-21</td>\n",
       "      <td>4GB</td>\n",
       "    </tr>\n",
       "    <tr>\n",
       "      <td>iPhone XS Max</td>\n",
       "      <td>Yes</td>\n",
       "      <td>2018-09-21</td>\n",
       "      <td>4GB</td>\n",
       "    </tr>\n",
       "  </tbody>\n",
       "</table>\n",
       "</div>"
      ],
      "text/plain": [
       "              Face ID         출시일  메모리\n",
       "iPhone 7           No  2016-09-16  2GB\n",
       "iPhone 7 Plus      No  2016-09-16  3GB\n",
       "iPhone 8           No  2017-09-22  2GB\n",
       "iPhone 8 Plus      No  2017-09-22  3GB\n",
       "iPhone X          Yes  2017-11-03  3GB\n",
       "iPhone XS         Yes  2018-09-21  4GB\n",
       "iPhone XS Max     Yes  2018-09-21  4GB"
      ]
     },
     "execution_count": 19,
     "metadata": {},
     "output_type": "execute_result"
    }
   ],
   "source": [
    "iphone_df[['Face ID','출시일','메모리']]"
   ]
  },
  {
   "cell_type": "code",
   "execution_count": 23,
   "metadata": {},
   "outputs": [
    {
     "data": {
      "text/html": [
       "<div>\n",
       "<style scoped>\n",
       "    .dataframe tbody tr th:only-of-type {\n",
       "        vertical-align: middle;\n",
       "    }\n",
       "\n",
       "    .dataframe tbody tr th {\n",
       "        vertical-align: top;\n",
       "    }\n",
       "\n",
       "    .dataframe thead th {\n",
       "        text-align: right;\n",
       "    }\n",
       "</style>\n",
       "<table border=\"1\" class=\"dataframe\">\n",
       "  <thead>\n",
       "    <tr style=\"text-align: right;\">\n",
       "      <th></th>\n",
       "      <th>출시일</th>\n",
       "      <th>디스플레이</th>\n",
       "      <th>메모리</th>\n",
       "      <th>출시 버전</th>\n",
       "      <th>Face ID</th>\n",
       "    </tr>\n",
       "  </thead>\n",
       "  <tbody>\n",
       "    <tr>\n",
       "      <td>iPhone 8</td>\n",
       "      <td>2017-09-22</td>\n",
       "      <td>4.7</td>\n",
       "      <td>2GB</td>\n",
       "      <td>iOS 11.0</td>\n",
       "      <td>No</td>\n",
       "    </tr>\n",
       "    <tr>\n",
       "      <td>iPhone 8 Plus</td>\n",
       "      <td>2017-09-22</td>\n",
       "      <td>5.5</td>\n",
       "      <td>3GB</td>\n",
       "      <td>iOS 11.0</td>\n",
       "      <td>No</td>\n",
       "    </tr>\n",
       "    <tr>\n",
       "      <td>iPhone X</td>\n",
       "      <td>2017-11-03</td>\n",
       "      <td>5.8</td>\n",
       "      <td>3GB</td>\n",
       "      <td>iOS 11.1</td>\n",
       "      <td>Yes</td>\n",
       "    </tr>\n",
       "    <tr>\n",
       "      <td>iPhone XS</td>\n",
       "      <td>2018-09-21</td>\n",
       "      <td>5.8</td>\n",
       "      <td>4GB</td>\n",
       "      <td>iOS 12.0</td>\n",
       "      <td>Yes</td>\n",
       "    </tr>\n",
       "  </tbody>\n",
       "</table>\n",
       "</div>"
      ],
      "text/plain": [
       "                      출시일  디스플레이  메모리     출시 버전 Face ID\n",
       "iPhone 8       2017-09-22    4.7  2GB  iOS 11.0      No\n",
       "iPhone 8 Plus  2017-09-22    5.5  3GB  iOS 11.0      No\n",
       "iPhone X       2017-11-03    5.8  3GB  iOS 11.1     Yes\n",
       "iPhone XS      2018-09-21    5.8  4GB  iOS 12.0     Yes"
      ]
     },
     "execution_count": 23,
     "metadata": {},
     "output_type": "execute_result"
    }
   ],
   "source": [
    "#슬라이싱\n",
    "iphone_df.loc['iPhone 8' : 'iPhone XS']"
   ]
  },
  {
   "cell_type": "code",
   "execution_count": 25,
   "metadata": {},
   "outputs": [
    {
     "data": {
      "text/html": [
       "<div>\n",
       "<style scoped>\n",
       "    .dataframe tbody tr th:only-of-type {\n",
       "        vertical-align: middle;\n",
       "    }\n",
       "\n",
       "    .dataframe tbody tr th {\n",
       "        vertical-align: top;\n",
       "    }\n",
       "\n",
       "    .dataframe thead th {\n",
       "        text-align: right;\n",
       "    }\n",
       "</style>\n",
       "<table border=\"1\" class=\"dataframe\">\n",
       "  <thead>\n",
       "    <tr style=\"text-align: right;\">\n",
       "      <th></th>\n",
       "      <th>출시일</th>\n",
       "      <th>디스플레이</th>\n",
       "      <th>메모리</th>\n",
       "      <th>출시 버전</th>\n",
       "      <th>Face ID</th>\n",
       "    </tr>\n",
       "  </thead>\n",
       "  <tbody>\n",
       "  </tbody>\n",
       "</table>\n",
       "</div>"
      ],
      "text/plain": [
       "Empty DataFrame\n",
       "Columns: [출시일, 디스플레이, 메모리, 출시 버전, Face ID]\n",
       "Index: []"
      ]
     },
     "execution_count": 25,
     "metadata": {},
     "output_type": "execute_result"
    }
   ],
   "source": [
    "#컬럼으로 슬라이싱\n",
    "iphone_df['메모리':'Face ID'] "
   ]
  },
  {
   "cell_type": "code",
   "execution_count": 27,
   "metadata": {},
   "outputs": [
    {
     "data": {
      "text/html": [
       "<div>\n",
       "<style scoped>\n",
       "    .dataframe tbody tr th:only-of-type {\n",
       "        vertical-align: middle;\n",
       "    }\n",
       "\n",
       "    .dataframe tbody tr th {\n",
       "        vertical-align: top;\n",
       "    }\n",
       "\n",
       "    .dataframe thead th {\n",
       "        text-align: right;\n",
       "    }\n",
       "</style>\n",
       "<table border=\"1\" class=\"dataframe\">\n",
       "  <thead>\n",
       "    <tr style=\"text-align: right;\">\n",
       "      <th></th>\n",
       "      <th>메모리</th>\n",
       "      <th>출시 버전</th>\n",
       "      <th>Face ID</th>\n",
       "    </tr>\n",
       "  </thead>\n",
       "  <tbody>\n",
       "    <tr>\n",
       "      <td>iPhone 7</td>\n",
       "      <td>2GB</td>\n",
       "      <td>iOS 10.0</td>\n",
       "      <td>No</td>\n",
       "    </tr>\n",
       "    <tr>\n",
       "      <td>iPhone 7 Plus</td>\n",
       "      <td>3GB</td>\n",
       "      <td>iOS 10.0</td>\n",
       "      <td>No</td>\n",
       "    </tr>\n",
       "    <tr>\n",
       "      <td>iPhone 8</td>\n",
       "      <td>2GB</td>\n",
       "      <td>iOS 11.0</td>\n",
       "      <td>No</td>\n",
       "    </tr>\n",
       "    <tr>\n",
       "      <td>iPhone 8 Plus</td>\n",
       "      <td>3GB</td>\n",
       "      <td>iOS 11.0</td>\n",
       "      <td>No</td>\n",
       "    </tr>\n",
       "    <tr>\n",
       "      <td>iPhone X</td>\n",
       "      <td>3GB</td>\n",
       "      <td>iOS 11.1</td>\n",
       "      <td>Yes</td>\n",
       "    </tr>\n",
       "    <tr>\n",
       "      <td>iPhone XS</td>\n",
       "      <td>4GB</td>\n",
       "      <td>iOS 12.0</td>\n",
       "      <td>Yes</td>\n",
       "    </tr>\n",
       "    <tr>\n",
       "      <td>iPhone XS Max</td>\n",
       "      <td>4GB</td>\n",
       "      <td>iOS 12.0</td>\n",
       "      <td>Yes</td>\n",
       "    </tr>\n",
       "  </tbody>\n",
       "</table>\n",
       "</div>"
      ],
      "text/plain": [
       "               메모리     출시 버전 Face ID\n",
       "iPhone 7       2GB  iOS 10.0      No\n",
       "iPhone 7 Plus  3GB  iOS 10.0      No\n",
       "iPhone 8       2GB  iOS 11.0      No\n",
       "iPhone 8 Plus  3GB  iOS 11.0      No\n",
       "iPhone X       3GB  iOS 11.1     Yes\n",
       "iPhone XS      4GB  iOS 12.0     Yes\n",
       "iPhone XS Max  4GB  iOS 12.0     Yes"
      ]
     },
     "execution_count": 27,
     "metadata": {},
     "output_type": "execute_result"
    }
   ],
   "source": [
    "iphone_df.loc[:,'메모리':'Face ID']"
   ]
  },
  {
   "cell_type": "code",
   "execution_count": 29,
   "metadata": {},
   "outputs": [
    {
     "data": {
      "text/html": [
       "<div>\n",
       "<style scoped>\n",
       "    .dataframe tbody tr th:only-of-type {\n",
       "        vertical-align: middle;\n",
       "    }\n",
       "\n",
       "    .dataframe tbody tr th {\n",
       "        vertical-align: top;\n",
       "    }\n",
       "\n",
       "    .dataframe thead th {\n",
       "        text-align: right;\n",
       "    }\n",
       "</style>\n",
       "<table border=\"1\" class=\"dataframe\">\n",
       "  <thead>\n",
       "    <tr style=\"text-align: right;\">\n",
       "      <th></th>\n",
       "      <th>메모리</th>\n",
       "      <th>출시 버전</th>\n",
       "      <th>Face ID</th>\n",
       "    </tr>\n",
       "  </thead>\n",
       "  <tbody>\n",
       "    <tr>\n",
       "      <td>iPhone 8</td>\n",
       "      <td>2GB</td>\n",
       "      <td>iOS 11.0</td>\n",
       "      <td>No</td>\n",
       "    </tr>\n",
       "    <tr>\n",
       "      <td>iPhone 8 Plus</td>\n",
       "      <td>3GB</td>\n",
       "      <td>iOS 11.0</td>\n",
       "      <td>No</td>\n",
       "    </tr>\n",
       "    <tr>\n",
       "      <td>iPhone X</td>\n",
       "      <td>3GB</td>\n",
       "      <td>iOS 11.1</td>\n",
       "      <td>Yes</td>\n",
       "    </tr>\n",
       "    <tr>\n",
       "      <td>iPhone XS</td>\n",
       "      <td>4GB</td>\n",
       "      <td>iOS 12.0</td>\n",
       "      <td>Yes</td>\n",
       "    </tr>\n",
       "  </tbody>\n",
       "</table>\n",
       "</div>"
      ],
      "text/plain": [
       "               메모리     출시 버전 Face ID\n",
       "iPhone 8       2GB  iOS 11.0      No\n",
       "iPhone 8 Plus  3GB  iOS 11.0      No\n",
       "iPhone X       3GB  iOS 11.1     Yes\n",
       "iPhone XS      4GB  iOS 12.0     Yes"
      ]
     },
     "execution_count": 29,
     "metadata": {},
     "output_type": "execute_result"
    }
   ],
   "source": [
    "iphone_df.loc['iPhone 8' : 'iPhone XS','메모리':'Face ID']"
   ]
  },
  {
   "cell_type": "code",
   "execution_count": 33,
   "metadata": {},
   "outputs": [
    {
     "data": {
      "text/html": [
       "<div>\n",
       "<style scoped>\n",
       "    .dataframe tbody tr th:only-of-type {\n",
       "        vertical-align: middle;\n",
       "    }\n",
       "\n",
       "    .dataframe tbody tr th {\n",
       "        vertical-align: top;\n",
       "    }\n",
       "\n",
       "    .dataframe thead th {\n",
       "        text-align: right;\n",
       "    }\n",
       "</style>\n",
       "<table border=\"1\" class=\"dataframe\">\n",
       "  <thead>\n",
       "    <tr style=\"text-align: right;\">\n",
       "      <th></th>\n",
       "      <th>출시일</th>\n",
       "      <th>디스플레이</th>\n",
       "      <th>메모리</th>\n",
       "      <th>출시 버전</th>\n",
       "      <th>Face ID</th>\n",
       "    </tr>\n",
       "  </thead>\n",
       "  <tbody>\n",
       "    <tr>\n",
       "      <td>iPhone 7</td>\n",
       "      <td>2016-09-16</td>\n",
       "      <td>4.7</td>\n",
       "      <td>2GB</td>\n",
       "      <td>iOS 10.0</td>\n",
       "      <td>No</td>\n",
       "    </tr>\n",
       "    <tr>\n",
       "      <td>iPhone 8</td>\n",
       "      <td>2017-09-22</td>\n",
       "      <td>4.7</td>\n",
       "      <td>2GB</td>\n",
       "      <td>iOS 11.0</td>\n",
       "      <td>No</td>\n",
       "    </tr>\n",
       "    <tr>\n",
       "      <td>iPhone 8 Plus</td>\n",
       "      <td>2017-09-22</td>\n",
       "      <td>5.5</td>\n",
       "      <td>3GB</td>\n",
       "      <td>iOS 11.0</td>\n",
       "      <td>No</td>\n",
       "    </tr>\n",
       "    <tr>\n",
       "      <td>iPhone XS</td>\n",
       "      <td>2018-09-21</td>\n",
       "      <td>5.8</td>\n",
       "      <td>4GB</td>\n",
       "      <td>iOS 12.0</td>\n",
       "      <td>Yes</td>\n",
       "    </tr>\n",
       "  </tbody>\n",
       "</table>\n",
       "</div>"
      ],
      "text/plain": [
       "                      출시일  디스플레이  메모리     출시 버전 Face ID\n",
       "iPhone 7       2016-09-16    4.7  2GB  iOS 10.0      No\n",
       "iPhone 8       2017-09-22    4.7  2GB  iOS 11.0      No\n",
       "iPhone 8 Plus  2017-09-22    5.5  3GB  iOS 11.0      No\n",
       "iPhone XS      2018-09-21    5.8  4GB  iOS 12.0     Yes"
      ]
     },
     "execution_count": 33,
     "metadata": {},
     "output_type": "execute_result"
    }
   ],
   "source": [
    "# Boolean(조건)으로 인덱싱\n",
    "iphone_df.loc[[True, False, True, True, False, True, False]]"
   ]
  },
  {
   "cell_type": "code",
   "execution_count": 38,
   "metadata": {},
   "outputs": [
    {
     "data": {
      "text/plain": [
       "iPhone 7         False\n",
       "iPhone 7 Plus     True\n",
       "iPhone 8         False\n",
       "iPhone 8 Plus     True\n",
       "iPhone X          True\n",
       "iPhone XS         True\n",
       "iPhone XS Max     True\n",
       "Name: 디스플레이, dtype: bool"
      ]
     },
     "execution_count": 38,
     "metadata": {},
     "output_type": "execute_result"
    }
   ],
   "source": [
    "iphone_df['디스플레이'] > 5"
   ]
  },
  {
   "cell_type": "code",
   "execution_count": 40,
   "metadata": {},
   "outputs": [
    {
     "data": {
      "text/html": [
       "<div>\n",
       "<style scoped>\n",
       "    .dataframe tbody tr th:only-of-type {\n",
       "        vertical-align: middle;\n",
       "    }\n",
       "\n",
       "    .dataframe tbody tr th {\n",
       "        vertical-align: top;\n",
       "    }\n",
       "\n",
       "    .dataframe thead th {\n",
       "        text-align: right;\n",
       "    }\n",
       "</style>\n",
       "<table border=\"1\" class=\"dataframe\">\n",
       "  <thead>\n",
       "    <tr style=\"text-align: right;\">\n",
       "      <th></th>\n",
       "      <th>출시일</th>\n",
       "      <th>디스플레이</th>\n",
       "      <th>메모리</th>\n",
       "      <th>출시 버전</th>\n",
       "      <th>Face ID</th>\n",
       "    </tr>\n",
       "  </thead>\n",
       "  <tbody>\n",
       "    <tr>\n",
       "      <td>iPhone 7 Plus</td>\n",
       "      <td>2016-09-16</td>\n",
       "      <td>5.5</td>\n",
       "      <td>3GB</td>\n",
       "      <td>iOS 10.0</td>\n",
       "      <td>No</td>\n",
       "    </tr>\n",
       "    <tr>\n",
       "      <td>iPhone 8 Plus</td>\n",
       "      <td>2017-09-22</td>\n",
       "      <td>5.5</td>\n",
       "      <td>3GB</td>\n",
       "      <td>iOS 11.0</td>\n",
       "      <td>No</td>\n",
       "    </tr>\n",
       "    <tr>\n",
       "      <td>iPhone X</td>\n",
       "      <td>2017-11-03</td>\n",
       "      <td>5.8</td>\n",
       "      <td>3GB</td>\n",
       "      <td>iOS 11.1</td>\n",
       "      <td>Yes</td>\n",
       "    </tr>\n",
       "    <tr>\n",
       "      <td>iPhone XS</td>\n",
       "      <td>2018-09-21</td>\n",
       "      <td>5.8</td>\n",
       "      <td>4GB</td>\n",
       "      <td>iOS 12.0</td>\n",
       "      <td>Yes</td>\n",
       "    </tr>\n",
       "    <tr>\n",
       "      <td>iPhone XS Max</td>\n",
       "      <td>2018-09-21</td>\n",
       "      <td>6.5</td>\n",
       "      <td>4GB</td>\n",
       "      <td>iOS 12.0</td>\n",
       "      <td>Yes</td>\n",
       "    </tr>\n",
       "  </tbody>\n",
       "</table>\n",
       "</div>"
      ],
      "text/plain": [
       "                      출시일  디스플레이  메모리     출시 버전 Face ID\n",
       "iPhone 7 Plus  2016-09-16    5.5  3GB  iOS 10.0      No\n",
       "iPhone 8 Plus  2017-09-22    5.5  3GB  iOS 11.0      No\n",
       "iPhone X       2017-11-03    5.8  3GB  iOS 11.1     Yes\n",
       "iPhone XS      2018-09-21    5.8  4GB  iOS 12.0     Yes\n",
       "iPhone XS Max  2018-09-21    6.5  4GB  iOS 12.0     Yes"
      ]
     },
     "execution_count": 40,
     "metadata": {},
     "output_type": "execute_result"
    }
   ],
   "source": [
    "iphone_df.loc[iphone_df['디스플레이'] > 5]"
   ]
  },
  {
   "cell_type": "code",
   "execution_count": 44,
   "metadata": {},
   "outputs": [
    {
     "data": {
      "text/plain": [
       "iPhone 7         False\n",
       "iPhone 7 Plus    False\n",
       "iPhone 8         False\n",
       "iPhone 8 Plus    False\n",
       "iPhone X          True\n",
       "iPhone XS         True\n",
       "iPhone XS Max     True\n",
       "Name: Face ID, dtype: bool"
      ]
     },
     "execution_count": 44,
     "metadata": {},
     "output_type": "execute_result"
    }
   ],
   "source": [
    "iphone_df['Face ID'] == 'Yes'"
   ]
  },
  {
   "cell_type": "code",
   "execution_count": 45,
   "metadata": {},
   "outputs": [
    {
     "data": {
      "text/html": [
       "<div>\n",
       "<style scoped>\n",
       "    .dataframe tbody tr th:only-of-type {\n",
       "        vertical-align: middle;\n",
       "    }\n",
       "\n",
       "    .dataframe tbody tr th {\n",
       "        vertical-align: top;\n",
       "    }\n",
       "\n",
       "    .dataframe thead th {\n",
       "        text-align: right;\n",
       "    }\n",
       "</style>\n",
       "<table border=\"1\" class=\"dataframe\">\n",
       "  <thead>\n",
       "    <tr style=\"text-align: right;\">\n",
       "      <th></th>\n",
       "      <th>출시일</th>\n",
       "      <th>디스플레이</th>\n",
       "      <th>메모리</th>\n",
       "      <th>출시 버전</th>\n",
       "      <th>Face ID</th>\n",
       "    </tr>\n",
       "  </thead>\n",
       "  <tbody>\n",
       "    <tr>\n",
       "      <td>iPhone X</td>\n",
       "      <td>2017-11-03</td>\n",
       "      <td>5.8</td>\n",
       "      <td>3GB</td>\n",
       "      <td>iOS 11.1</td>\n",
       "      <td>Yes</td>\n",
       "    </tr>\n",
       "    <tr>\n",
       "      <td>iPhone XS</td>\n",
       "      <td>2018-09-21</td>\n",
       "      <td>5.8</td>\n",
       "      <td>4GB</td>\n",
       "      <td>iOS 12.0</td>\n",
       "      <td>Yes</td>\n",
       "    </tr>\n",
       "    <tr>\n",
       "      <td>iPhone XS Max</td>\n",
       "      <td>2018-09-21</td>\n",
       "      <td>6.5</td>\n",
       "      <td>4GB</td>\n",
       "      <td>iOS 12.0</td>\n",
       "      <td>Yes</td>\n",
       "    </tr>\n",
       "  </tbody>\n",
       "</table>\n",
       "</div>"
      ],
      "text/plain": [
       "                      출시일  디스플레이  메모리     출시 버전 Face ID\n",
       "iPhone X       2017-11-03    5.8  3GB  iOS 11.1     Yes\n",
       "iPhone XS      2018-09-21    5.8  4GB  iOS 12.0     Yes\n",
       "iPhone XS Max  2018-09-21    6.5  4GB  iOS 12.0     Yes"
      ]
     },
     "execution_count": 45,
     "metadata": {},
     "output_type": "execute_result"
    }
   ],
   "source": [
    "iphone_df.loc[iphone_df['Face ID'] == 'Yes']"
   ]
  },
  {
   "cell_type": "code",
   "execution_count": 49,
   "metadata": {},
   "outputs": [
    {
     "data": {
      "text/plain": [
       "iPhone 7         False\n",
       "iPhone 7 Plus    False\n",
       "iPhone 8         False\n",
       "iPhone 8 Plus    False\n",
       "iPhone X          True\n",
       "iPhone XS         True\n",
       "iPhone XS Max     True\n",
       "dtype: bool"
      ]
     },
     "execution_count": 49,
     "metadata": {},
     "output_type": "execute_result"
    }
   ],
   "source": [
    "(iphone_df['디스플레이'] > 5) & (iphone_df['Face ID'] == 'Yes')"
   ]
  },
  {
   "cell_type": "code",
   "execution_count": 52,
   "metadata": {},
   "outputs": [],
   "source": [
    "# 둘중하나 만족하는 조건\n",
    "condition = (iphone_df['디스플레이'] > 5) | (iphone_df['Face ID'] == 'Yes')"
   ]
  },
  {
   "cell_type": "code",
   "execution_count": 54,
   "metadata": {},
   "outputs": [
    {
     "data": {
      "text/html": [
       "<div>\n",
       "<style scoped>\n",
       "    .dataframe tbody tr th:only-of-type {\n",
       "        vertical-align: middle;\n",
       "    }\n",
       "\n",
       "    .dataframe tbody tr th {\n",
       "        vertical-align: top;\n",
       "    }\n",
       "\n",
       "    .dataframe thead th {\n",
       "        text-align: right;\n",
       "    }\n",
       "</style>\n",
       "<table border=\"1\" class=\"dataframe\">\n",
       "  <thead>\n",
       "    <tr style=\"text-align: right;\">\n",
       "      <th></th>\n",
       "      <th>출시일</th>\n",
       "      <th>디스플레이</th>\n",
       "      <th>메모리</th>\n",
       "      <th>출시 버전</th>\n",
       "      <th>Face ID</th>\n",
       "    </tr>\n",
       "  </thead>\n",
       "  <tbody>\n",
       "    <tr>\n",
       "      <td>iPhone 7 Plus</td>\n",
       "      <td>2016-09-16</td>\n",
       "      <td>5.5</td>\n",
       "      <td>3GB</td>\n",
       "      <td>iOS 10.0</td>\n",
       "      <td>No</td>\n",
       "    </tr>\n",
       "    <tr>\n",
       "      <td>iPhone 8 Plus</td>\n",
       "      <td>2017-09-22</td>\n",
       "      <td>5.5</td>\n",
       "      <td>3GB</td>\n",
       "      <td>iOS 11.0</td>\n",
       "      <td>No</td>\n",
       "    </tr>\n",
       "    <tr>\n",
       "      <td>iPhone X</td>\n",
       "      <td>2017-11-03</td>\n",
       "      <td>5.8</td>\n",
       "      <td>3GB</td>\n",
       "      <td>iOS 11.1</td>\n",
       "      <td>Yes</td>\n",
       "    </tr>\n",
       "    <tr>\n",
       "      <td>iPhone XS</td>\n",
       "      <td>2018-09-21</td>\n",
       "      <td>5.8</td>\n",
       "      <td>4GB</td>\n",
       "      <td>iOS 12.0</td>\n",
       "      <td>Yes</td>\n",
       "    </tr>\n",
       "    <tr>\n",
       "      <td>iPhone XS Max</td>\n",
       "      <td>2018-09-21</td>\n",
       "      <td>6.5</td>\n",
       "      <td>4GB</td>\n",
       "      <td>iOS 12.0</td>\n",
       "      <td>Yes</td>\n",
       "    </tr>\n",
       "  </tbody>\n",
       "</table>\n",
       "</div>"
      ],
      "text/plain": [
       "                      출시일  디스플레이  메모리     출시 버전 Face ID\n",
       "iPhone 7 Plus  2016-09-16    5.5  3GB  iOS 10.0      No\n",
       "iPhone 8 Plus  2017-09-22    5.5  3GB  iOS 11.0      No\n",
       "iPhone X       2017-11-03    5.8  3GB  iOS 11.1     Yes\n",
       "iPhone XS      2018-09-21    5.8  4GB  iOS 12.0     Yes\n",
       "iPhone XS Max  2018-09-21    6.5  4GB  iOS 12.0     Yes"
      ]
     },
     "execution_count": 54,
     "metadata": {},
     "output_type": "execute_result"
    }
   ],
   "source": [
    "iphone_df[condition]"
   ]
  },
  {
   "cell_type": "code",
   "execution_count": 61,
   "metadata": {},
   "outputs": [
    {
     "data": {
      "text/plain": [
       "'No'"
      ]
     },
     "execution_count": 61,
     "metadata": {},
     "output_type": "execute_result"
    }
   ],
   "source": [
    "#위치로 인덱싱하기\n",
    "iphone_df.iloc[2,4]"
   ]
  },
  {
   "cell_type": "code",
   "execution_count": 63,
   "metadata": {},
   "outputs": [
    {
     "data": {
      "text/html": [
       "<div>\n",
       "<style scoped>\n",
       "    .dataframe tbody tr th:only-of-type {\n",
       "        vertical-align: middle;\n",
       "    }\n",
       "\n",
       "    .dataframe tbody tr th {\n",
       "        vertical-align: top;\n",
       "    }\n",
       "\n",
       "    .dataframe thead th {\n",
       "        text-align: right;\n",
       "    }\n",
       "</style>\n",
       "<table border=\"1\" class=\"dataframe\">\n",
       "  <thead>\n",
       "    <tr style=\"text-align: right;\">\n",
       "      <th></th>\n",
       "      <th>디스플레이</th>\n",
       "      <th>Face ID</th>\n",
       "    </tr>\n",
       "  </thead>\n",
       "  <tbody>\n",
       "    <tr>\n",
       "      <td>iPhone 7 Plus</td>\n",
       "      <td>5.5</td>\n",
       "      <td>No</td>\n",
       "    </tr>\n",
       "    <tr>\n",
       "      <td>iPhone 8 Plus</td>\n",
       "      <td>5.5</td>\n",
       "      <td>No</td>\n",
       "    </tr>\n",
       "  </tbody>\n",
       "</table>\n",
       "</div>"
      ],
      "text/plain": [
       "               디스플레이 Face ID\n",
       "iPhone 7 Plus    5.5      No\n",
       "iPhone 8 Plus    5.5      No"
      ]
     },
     "execution_count": 63,
     "metadata": {},
     "output_type": "execute_result"
    }
   ],
   "source": [
    "iphone_df.iloc[[1,3],[1,4]]"
   ]
  },
  {
   "cell_type": "code",
   "execution_count": 64,
   "metadata": {},
   "outputs": [
    {
     "data": {
      "text/html": [
       "<div>\n",
       "<style scoped>\n",
       "    .dataframe tbody tr th:only-of-type {\n",
       "        vertical-align: middle;\n",
       "    }\n",
       "\n",
       "    .dataframe tbody tr th {\n",
       "        vertical-align: top;\n",
       "    }\n",
       "\n",
       "    .dataframe thead th {\n",
       "        text-align: right;\n",
       "    }\n",
       "</style>\n",
       "<table border=\"1\" class=\"dataframe\">\n",
       "  <thead>\n",
       "    <tr style=\"text-align: right;\">\n",
       "      <th></th>\n",
       "      <th>디스플레이</th>\n",
       "      <th>메모리</th>\n",
       "      <th>출시 버전</th>\n",
       "    </tr>\n",
       "  </thead>\n",
       "  <tbody>\n",
       "    <tr>\n",
       "      <td>iPhone 8 Plus</td>\n",
       "      <td>5.5</td>\n",
       "      <td>3GB</td>\n",
       "      <td>iOS 11.0</td>\n",
       "    </tr>\n",
       "    <tr>\n",
       "      <td>iPhone X</td>\n",
       "      <td>5.8</td>\n",
       "      <td>3GB</td>\n",
       "      <td>iOS 11.1</td>\n",
       "    </tr>\n",
       "    <tr>\n",
       "      <td>iPhone XS</td>\n",
       "      <td>5.8</td>\n",
       "      <td>4GB</td>\n",
       "      <td>iOS 12.0</td>\n",
       "    </tr>\n",
       "    <tr>\n",
       "      <td>iPhone XS Max</td>\n",
       "      <td>6.5</td>\n",
       "      <td>4GB</td>\n",
       "      <td>iOS 12.0</td>\n",
       "    </tr>\n",
       "  </tbody>\n",
       "</table>\n",
       "</div>"
      ],
      "text/plain": [
       "               디스플레이  메모리     출시 버전\n",
       "iPhone 8 Plus    5.5  3GB  iOS 11.0\n",
       "iPhone X         5.8  3GB  iOS 11.1\n",
       "iPhone XS        5.8  4GB  iOS 12.0\n",
       "iPhone XS Max    6.5  4GB  iOS 12.0"
      ]
     },
     "execution_count": 64,
     "metadata": {},
     "output_type": "execute_result"
    }
   ],
   "source": [
    "iphone_df.iloc[3:,1:4]"
   ]
  }
 ],
 "metadata": {
  "kernelspec": {
   "display_name": "Python 3",
   "language": "python",
   "name": "python3"
  },
  "language_info": {
   "codemirror_mode": {
    "name": "ipython",
    "version": 3
   },
   "file_extension": ".py",
   "mimetype": "text/x-python",
   "name": "python",
   "nbconvert_exporter": "python",
   "pygments_lexer": "ipython3",
   "version": "3.7.3"
  }
 },
 "nbformat": 4,
 "nbformat_minor": 2
}
