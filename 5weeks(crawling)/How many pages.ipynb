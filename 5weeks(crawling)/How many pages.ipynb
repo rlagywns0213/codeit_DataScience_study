{
 "cells": [
  {
   "cell_type": "code",
   "execution_count": 13,
   "metadata": {},
   "outputs": [
    {
     "name": "stdout",
     "output_type": "stream",
     "text": [
      "13\n"
     ]
    }
   ],
   "source": [
    "''' 파싱으로 페이지 개수 알아내기'''\n",
    "import requests\n",
    "from bs4 import BeautifulSoup\n",
    "\n",
    "# HTML 코드 받아오기\n",
    "response = requests.get(\"https://www.ikea.com/kr/ko/search/?query=desk\")\n",
    "\n",
    "# BeautifulSoup 타입으로 변환\n",
    "soup = BeautifulSoup(response.text, 'html.parser')\n",
    "\n",
    "# 마지막 <a> 태그의 텍스트 추출하기\n",
    "page_length = soup.select('.pagination a')[-1].text\n",
    "\n",
    "# 빈 리스트 생성하기\n",
    "pages = []\n",
    "\n",
    "# 실제 페이지 개수만큼만 HTML 코드 받아오기\n",
    "for i in range(1, int(page_length) + 1):\n",
    "    response = requests.get(\"https://www.ikea.com/kr/ko/search/?query=desk&pageNumber=\" + str(i))\n",
    "    pages.append(response.text)\n",
    "\n",
    "# 받아온 HTML 코드 개수 출력\n",
    "print(len(pages))"
   ]
  },
  {
   "cell_type": "code",
   "execution_count": 16,
   "metadata": {},
   "outputs": [
    {
     "name": "stdout",
     "output_type": "stream",
     "text": [
      "13\n"
     ]
    }
   ],
   "source": [
    "#일단 가져와서 확인해보기\n",
    "import requests\n",
    "from bs4 import BeautifulSoup\n",
    "\n",
    "# 빈 리스트 생성\n",
    "pages = []\n",
    "\n",
    "# 첫 페이지 번호 지정\n",
    "page_num = 1\n",
    "\n",
    "while True:\n",
    "    # HTML 코드 받아오기\n",
    "    response = requests.get(\"https://www.ikea.com/kr/ko/search/?query=desk&pageNumber=\" + str(page_num))\n",
    "\n",
    "    # BeautifulSoup 타입으로 변환하기\n",
    "    soup = BeautifulSoup(response.text, 'html.parser')\n",
    "\n",
    "    # \".prodName\" 클래스가 있을 때만 HTML 코드를 리스트에 담기\n",
    "    if len(soup.select('.prodName')) > 0:\n",
    "        pages.append(soup)\n",
    "        page_num += 1\n",
    "    else:\n",
    "        break\n",
    "\n",
    "# 가져온 페이지 개수 출력하기\n",
    "print(len(pages))"
   ]
  },
  {
   "cell_type": "code",
   "execution_count": null,
   "metadata": {},
   "outputs": [],
   "source": []
  }
 ],
 "metadata": {
  "kernelspec": {
   "display_name": "Python 3",
   "language": "python",
   "name": "python3"
  },
  "language_info": {
   "codemirror_mode": {
    "name": "ipython",
    "version": 3
   },
   "file_extension": ".py",
   "mimetype": "text/x-python",
   "name": "python",
   "nbconvert_exporter": "python",
   "pygments_lexer": "ipython3",
   "version": "3.7.3"
  }
 },
 "nbformat": 4,
 "nbformat_minor": 2
}
