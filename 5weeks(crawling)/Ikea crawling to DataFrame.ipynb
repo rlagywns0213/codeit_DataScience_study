{
 "cells": [
  {
   "cell_type": "code",
   "execution_count": 24,
   "metadata": {},
   "outputs": [
    {
     "data": {
      "text/plain": [
       "[]"
      ]
     },
     "execution_count": 24,
     "metadata": {},
     "output_type": "execute_result"
    }
   ],
   "source": [
    "import requests\n",
    "from bs4 import BeautifulSoup\n",
    "\n",
    "record = []\n",
    "\n",
    "page_num = 1\n",
    "\n",
    "while True:\n",
    "    response = requests.get(\"https://www.ikea.com/kr/ko/search/?query=desk&pageNumber=\" + str(page_num))\n",
    "    \n",
    "    soup = BeautifulSoup(response.text, 'html.parser')\n",
    "    \n",
    "    if len(soup.select('.prodName')) > 0 :\n",
    "        product_names = soup.select('.prodName')\n",
    "        product_prices = soup.select('.prodPrice')\n",
    "    \n",
    "    break\n",
    "\n",
    "soup.select('.prod-desc')"
   ]
  },
  {
   "cell_type": "code",
   "execution_count": null,
   "metadata": {},
   "outputs": [],
   "source": []
  }
 ],
 "metadata": {
  "kernelspec": {
   "display_name": "Python 3",
   "language": "python",
   "name": "python3"
  },
  "language_info": {
   "codemirror_mode": {
    "name": "ipython",
    "version": 3
   },
   "file_extension": ".py",
   "mimetype": "text/x-python",
   "name": "python",
   "nbconvert_exporter": "python",
   "pygments_lexer": "ipython3",
   "version": "3.7.3"
  }
 },
 "nbformat": 4,
 "nbformat_minor": 2
}
